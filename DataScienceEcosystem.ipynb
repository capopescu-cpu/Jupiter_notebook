{
 "cells": [
  {
   "cell_type": "markdown",
   "id": "96c4c6bf-cdf8-4329-b31b-37e3c6ec130b",
   "metadata": {},
   "source": [
    "<h1>Data Science Tools and Ecosystem<h1><br>"
   ]
  },
  {
   "cell_type": "markdown",
   "id": "38fc67e9-b296-4f0c-8036-2bd82810a815",
   "metadata": {
    "tags": []
   },
   "source": [
    "In this notebook, Data Science Tools and Ecosystem are summarized."
   ]
  },
  {
   "cell_type": "markdown",
   "id": "66398cc5-bfd4-469a-9cc3-42efc21a5886",
   "metadata": {
    "tags": []
   },
   "source": [
    "<b>Objectives:</b>\n",
    "<ul>\n",
    "<li>List popular languages for Data Science</li>\n",
    "<li>Commonly used libraries in Data Scientists</li>\n",
    "<li>Evaluating basic arithmetic expressions in Python</li>\n",
    "</ul>"
   ]
  },
  {
   "cell_type": "markdown",
   "id": "f7758efe-410a-4800-8657-bf9b86ebd3d4",
   "metadata": {},
   "source": [
    "Some of the popular languages that Data Scientists use are:\n",
    "<ol>\n",
    "<li>Python</li>\n",
    "<li>R</li>\n",
    "<li>Julia</li>\n",
    "</ol>"
   ]
  },
  {
   "cell_type": "markdown",
   "id": "8f102877-4a5b-460d-9698-0aac4036e97c",
   "metadata": {},
   "source": [
    "Some of the commonly used libraries used by Data Scientists include:\n",
    "<ol>\n",
    "<li>Scikit-learn</li>\n",
    "<li>Pandas</li>\n",
    "<li>Numpy</li>\n",
    "</ol>"
   ]
  },
  {
   "cell_type": "markdown",
   "id": "fa656a9f-4ac1-492b-bdd7-0f8be473e844",
   "metadata": {},
   "source": [
    "| Data Science Tools | \n",
    ":--:\n",
    "| Hadoop |\n",
    "| R |\n",
    "| Jupiter |\n"
   ]
  },
  {
   "cell_type": "markdown",
   "id": "7687ea38-479f-4958-a869-80a53838d44c",
   "metadata": {},
   "source": [
    "<h3>Below are a few examples of evaluating arithmetic expressions in Python<h3>"
   ]
  },
  {
   "cell_type": "code",
   "execution_count": 6,
   "id": "49026cbb-43a6-4282-9770-e8ce25f58135",
   "metadata": {
    "tags": []
   },
   "outputs": [
    {
     "data": {
      "text/plain": [
       "17"
      ]
     },
     "execution_count": 6,
     "metadata": {},
     "output_type": "execute_result"
    }
   ],
   "source": [
    "#This a simple arithmetic expression to mutiply then add integers\n",
    "(3*4)+5"
   ]
  },
  {
   "cell_type": "code",
   "execution_count": 7,
   "id": "5fa89a4a-1da0-4a64-a655-d75579fc8e74",
   "metadata": {
    "tags": []
   },
   "outputs": [
    {
     "data": {
      "text/plain": [
       "3.3333333333333335"
      ]
     },
     "execution_count": 7,
     "metadata": {},
     "output_type": "execute_result"
    }
   ],
   "source": [
    "#This will convert 200 minutes to hours by diving by 60\n",
    "200/60"
   ]
  },
  {
   "cell_type": "markdown",
   "id": "5b6d1b1e-0d96-433d-8f76-c217f7ca11be",
   "metadata": {
    "tags": []
   },
   "source": [
    "<h2>Author</h2>\n",
    "Popescu Andrei Cristian"
   ]
  },
  {
   "cell_type": "code",
   "execution_count": null,
   "id": "d0a299b9-fbf5-4c47-a19d-c7b2f09c2d15",
   "metadata": {},
   "outputs": [],
   "source": []
  }
 ],
 "metadata": {
  "kernelspec": {
   "display_name": "Python 3 (ipykernel)",
   "language": "python",
   "name": "python3"
  },
  "language_info": {
   "codemirror_mode": {
    "name": "ipython",
    "version": 3
   },
   "file_extension": ".py",
   "mimetype": "text/x-python",
   "name": "python",
   "nbconvert_exporter": "python",
   "pygments_lexer": "ipython3",
   "version": "3.11.5"
  }
 },
 "nbformat": 4,
 "nbformat_minor": 5
}
